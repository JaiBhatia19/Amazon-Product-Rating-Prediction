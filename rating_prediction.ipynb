{
 "cells": [
  {
   "cell_type": "code",
   "execution_count": 1,
   "id": "91dc15eb-60ba-43b6-a994-80d42f5224f0",
   "metadata": {},
   "outputs": [],
   "source": [
    "import pandas as pd\n",
    "import seaborn as sns\n",
    "import matplotlib.pyplot as plt\n",
    "import numpy as np\n",
    "import statsmodels.formula.api as smf\n",
    "import statsmodels.api as sm\n",
    "import gzip"
   ]
  },
  {
   "cell_type": "code",
   "execution_count": 2,
   "id": "fad7f959-843e-475c-86c9-11e1ce252c43",
   "metadata": {},
   "outputs": [],
   "source": [
    "sns.set_theme(style = \"whitegrid\")\n",
    "palette = sns.color_palette(\"crest_r\")"
   ]
  },
  {
   "cell_type": "code",
   "execution_count": 3,
   "id": "b45175c4-13f5-4a40-82e2-e1ab8bd48f4f",
   "metadata": {},
   "outputs": [],
   "source": [
    "def parse(path):\n",
    "  g = gzip.open(path, 'rb')\n",
    "  for l in g:\n",
    "    yield json.loads(l)\n",
    "\n",
    "def getDF(path):\n",
    "  i = 0\n",
    "  df = {}\n",
    "  for d in parse(path):\n",
    "    df[i] = d\n",
    "    i += 1\n",
    "  return pd.DataFrame.from_dict(df, orient='index')"
   ]
  },
  {
   "cell_type": "code",
   "execution_count": 4,
   "id": "53c63bd0-4730-4e87-93b7-09af65e6332c",
   "metadata": {},
   "outputs": [],
   "source": [
    "instruments = getDF('data/Musical_Instruments.json.gz')"
   ]
  },
  {
   "cell_type": "code",
   "execution_count": 5,
   "id": "42898923-b4dd-4635-91db-b57372460b36",
   "metadata": {},
   "outputs": [],
   "source": [
    "instruments = instruments.sample(n = 20000, random_state = 42)"
   ]
  },
  {
   "cell_type": "code",
   "execution_count": 6,
   "id": "d32b8445-2aec-4870-b50a-8d46ba2b364e",
   "metadata": {},
   "outputs": [],
   "source": [
    "instruments = instruments.reset_index(drop = True)"
   ]
  },
  {
   "cell_type": "code",
   "execution_count": 7,
   "id": "ea9e090a-8947-4bc0-9b5d-1df8dbacb194",
   "metadata": {},
   "outputs": [
    {
     "data": {
      "text/html": [
       "<div>\n",
       "<style scoped>\n",
       "    .dataframe tbody tr th:only-of-type {\n",
       "        vertical-align: middle;\n",
       "    }\n",
       "\n",
       "    .dataframe tbody tr th {\n",
       "        vertical-align: top;\n",
       "    }\n",
       "\n",
       "    .dataframe thead th {\n",
       "        text-align: right;\n",
       "    }\n",
       "</style>\n",
       "<table border=\"1\" class=\"dataframe\">\n",
       "  <thead>\n",
       "    <tr style=\"text-align: right;\">\n",
       "      <th></th>\n",
       "      <th>overall</th>\n",
       "      <th>vote</th>\n",
       "      <th>verified</th>\n",
       "      <th>reviewTime</th>\n",
       "      <th>reviewerID</th>\n",
       "      <th>asin</th>\n",
       "      <th>style</th>\n",
       "      <th>reviewerName</th>\n",
       "      <th>reviewText</th>\n",
       "      <th>summary</th>\n",
       "      <th>unixReviewTime</th>\n",
       "      <th>image</th>\n",
       "    </tr>\n",
       "  </thead>\n",
       "  <tbody>\n",
       "    <tr>\n",
       "      <th>0</th>\n",
       "      <td>2.0</td>\n",
       "      <td>NaN</td>\n",
       "      <td>True</td>\n",
       "      <td>01 30, 2016</td>\n",
       "      <td>A4V3MZPLN3XUU</td>\n",
       "      <td>B005DBEAM0</td>\n",
       "      <td>NaN</td>\n",
       "      <td>G.L.</td>\n",
       "      <td>Two problems:\\n\\nIt just smells. I have to lea...</td>\n",
       "      <td>Still not tall enough.</td>\n",
       "      <td>1454112000</td>\n",
       "      <td>NaN</td>\n",
       "    </tr>\n",
       "    <tr>\n",
       "      <th>1</th>\n",
       "      <td>4.0</td>\n",
       "      <td>NaN</td>\n",
       "      <td>True</td>\n",
       "      <td>07 14, 2017</td>\n",
       "      <td>A1VBE1QPSGE86B</td>\n",
       "      <td>B01EA91TI8</td>\n",
       "      <td>NaN</td>\n",
       "      <td>Nina M. Sundermeyer</td>\n",
       "      <td>This will be a gift. I have not used the produ...</td>\n",
       "      <td>This will be a gift. I have not used ...</td>\n",
       "      <td>1499990400</td>\n",
       "      <td>NaN</td>\n",
       "    </tr>\n",
       "    <tr>\n",
       "      <th>2</th>\n",
       "      <td>5.0</td>\n",
       "      <td>NaN</td>\n",
       "      <td>True</td>\n",
       "      <td>06 17, 2015</td>\n",
       "      <td>A1HFCJ8R77PL2</td>\n",
       "      <td>B004XNK7AI</td>\n",
       "      <td>{'Color:': ' Black - SN-5'}</td>\n",
       "      <td>CJ</td>\n",
       "      <td>I play many shows a month and this tuner keeps...</td>\n",
       "      <td>Very good</td>\n",
       "      <td>1434499200</td>\n",
       "      <td>NaN</td>\n",
       "    </tr>\n",
       "    <tr>\n",
       "      <th>3</th>\n",
       "      <td>3.0</td>\n",
       "      <td>NaN</td>\n",
       "      <td>True</td>\n",
       "      <td>01 11, 2014</td>\n",
       "      <td>A1D9FXN98XXFR9</td>\n",
       "      <td>B001XJBWXG</td>\n",
       "      <td>{'Style:': ' AW-2G Clip-On Guitar Tuner'}</td>\n",
       "      <td>KsBadBoy59</td>\n",
       "      <td>This was a gift for christmas for my son that ...</td>\n",
       "      <td>Clip-on Chromatic Guitar Tuner</td>\n",
       "      <td>1389398400</td>\n",
       "      <td>NaN</td>\n",
       "    </tr>\n",
       "    <tr>\n",
       "      <th>4</th>\n",
       "      <td>4.0</td>\n",
       "      <td>NaN</td>\n",
       "      <td>True</td>\n",
       "      <td>07 23, 2016</td>\n",
       "      <td>A2M2RYPLQKJX3R</td>\n",
       "      <td>B012TAWYHU</td>\n",
       "      <td>NaN</td>\n",
       "      <td>DA</td>\n",
       "      <td>Does the job.</td>\n",
       "      <td>Four Stars</td>\n",
       "      <td>1469232000</td>\n",
       "      <td>NaN</td>\n",
       "    </tr>\n",
       "  </tbody>\n",
       "</table>\n",
       "</div>"
      ],
      "text/plain": [
       "   overall vote  verified   reviewTime      reviewerID        asin  \\\n",
       "0      2.0  NaN      True  01 30, 2016   A4V3MZPLN3XUU  B005DBEAM0   \n",
       "1      4.0  NaN      True  07 14, 2017  A1VBE1QPSGE86B  B01EA91TI8   \n",
       "2      5.0  NaN      True  06 17, 2015   A1HFCJ8R77PL2  B004XNK7AI   \n",
       "3      3.0  NaN      True  01 11, 2014  A1D9FXN98XXFR9  B001XJBWXG   \n",
       "4      4.0  NaN      True  07 23, 2016  A2M2RYPLQKJX3R  B012TAWYHU   \n",
       "\n",
       "                                       style         reviewerName  \\\n",
       "0                                        NaN                 G.L.   \n",
       "1                                        NaN  Nina M. Sundermeyer   \n",
       "2                {'Color:': ' Black - SN-5'}                   CJ   \n",
       "3  {'Style:': ' AW-2G Clip-On Guitar Tuner'}           KsBadBoy59   \n",
       "4                                        NaN                   DA   \n",
       "\n",
       "                                          reviewText  \\\n",
       "0  Two problems:\\n\\nIt just smells. I have to lea...   \n",
       "1  This will be a gift. I have not used the produ...   \n",
       "2  I play many shows a month and this tuner keeps...   \n",
       "3  This was a gift for christmas for my son that ...   \n",
       "4                                      Does the job.   \n",
       "\n",
       "                                    summary  unixReviewTime image  \n",
       "0                    Still not tall enough.      1454112000   NaN  \n",
       "1  This will be a gift. I have not used ...      1499990400   NaN  \n",
       "2                                 Very good      1434499200   NaN  \n",
       "3            Clip-on Chromatic Guitar Tuner      1389398400   NaN  \n",
       "4                                Four Stars      1469232000   NaN  "
      ]
     },
     "execution_count": 7,
     "metadata": {},
     "output_type": "execute_result"
    }
   ],
   "source": [
    "instruments.head()"
   ]
  },
  {
   "cell_type": "code",
   "execution_count": 8,
   "id": "487a3ea1-82f6-46e1-b51f-82725218e7f4",
   "metadata": {},
   "outputs": [
    {
     "data": {
      "text/plain": [
       "5.0    12978\n",
       "4.0     3144\n",
       "1.0     1590\n",
       "3.0     1446\n",
       "2.0      842\n",
       "Name: overall, dtype: int64"
      ]
     },
     "execution_count": 8,
     "metadata": {},
     "output_type": "execute_result"
    }
   ],
   "source": [
    "instruments.overall.value_counts()"
   ]
  },
  {
   "cell_type": "code",
   "execution_count": 9,
   "id": "be2272d9-b2a3-425f-bf12-7222e4e44d8d",
   "metadata": {},
   "outputs": [
    {
     "data": {
      "text/plain": [
       "<AxesSubplot: xlabel='overall', ylabel='count'>"
      ]
     },
     "execution_count": 9,
     "metadata": {},
     "output_type": "execute_result"
    },
    {
     "data": {
      "image/png": "[encoded data removed]",
      "text/plain": [
       "<Figure size 640x480 with 1 Axes>"
      ]
     },
     "metadata": {},
     "output_type": "display_data"
    }
   ],
   "source": [
    "sns.countplot(data = instruments, x = 'overall', palette = palette)"
   ]
  },
  {
   "cell_type": "code",
   "execution_count": 10,
   "id": "dc8c3334-d3ff-47f9-b80c-3f1b560fd684",
   "metadata": {},
   "outputs": [
    {
     "data": {
      "text/plain": [
       "overall           0.00000\n",
       "vote              0.83965\n",
       "verified          0.00000\n",
       "reviewTime        0.00000\n",
       "reviewerID        0.00000\n",
       "asin              0.00000\n",
       "style             0.55770\n",
       "reviewerName      0.00005\n",
       "reviewText        0.00025\n",
       "summary           0.00050\n",
       "unixReviewTime    0.00000\n",
       "image             0.97860\n",
       "dtype: float64"
      ]
     },
     "execution_count": 10,
     "metadata": {},
     "output_type": "execute_result"
    }
   ],
   "source": [
    "instruments.isna().sum()/len(instruments)"
   ]
  },
  {
   "cell_type": "code",
   "execution_count": 11,
   "id": "7ac6591c-5b1b-435e-b28c-88d7d06a9ea2",
   "metadata": {},
   "outputs": [],
   "source": [
    "# Selecting relevant features\n",
    "instruments = instruments[[\"overall\", \"verified\", \"reviewText\", \"summary\"]]"
   ]
  },
  {
   "cell_type": "code",
   "execution_count": 12,
   "id": "3f128da1-673c-4a37-87d0-daba3dbbca48",
   "metadata": {},
   "outputs": [],
   "source": [
    "# Dropping rows with no reviews\n",
    "instruments = instruments.dropna(subset=[\"reviewText\", \"summary\"])"
   ]
  },
  {
   "cell_type": "code",
   "execution_count": 13,
   "id": "21b32dd6-7329-4a47-ad9b-3ce68f335b89",
   "metadata": {},
   "outputs": [
    {
     "data": {
      "text/plain": [
       "overall       0\n",
       "verified      0\n",
       "reviewText    0\n",
       "summary       0\n",
       "dtype: int64"
      ]
     },
     "execution_count": 13,
     "metadata": {},
     "output_type": "execute_result"
    }
   ],
   "source": [
    "instruments.isna().sum()"
   ]
  },
  {
   "cell_type": "code",
   "execution_count": 14,
   "id": "60d65109-1750-43a2-8415-e1378205b74b",
   "metadata": {},
   "outputs": [],
   "source": [
    "instruments[\"reviewLength\"] = instruments[\"reviewText\"].apply(len)"
   ]
  },
  {
   "cell_type": "code",
   "execution_count": 15,
   "id": "1d46b6e3-a6cf-4385-be08-7899efb70bf8",
   "metadata": {},
   "outputs": [
    {
     "name": "stderr",
     "output_type": "stream",
     "text": [
      "/tmp/ipykernel_1566/1211419890.py:1: UserWarning: Ignoring `palette` because no `hue` variable has been assigned.\n",
      "  sns.histplot(data = instruments, x = 'reviewLength', palette = palette)\n"
     ]
    },
    {
     "data": {
      "text/plain": [
       "<AxesSubplot: xlabel='reviewLength', ylabel='Count'>"
      ]
     },
     "execution_count": 15,
     "metadata": {},
     "output_type": "execute_result"
    },
    {
     "data": {
      "image/png": "[encoded data removed]",
      "text/plain": [
       "<Figure size 640x480 with 1 Axes>"
      ]
     },
     "metadata": {},
     "output_type": "display_data"
    }
   ],
   "source": [
    "sns.histplot(data = instruments, x = 'reviewLength', palette = palette)"
   ]
  },
  {
   "cell_type": "code",
   "execution_count": 16,
   "id": "02cb3de8-f7f3-4945-9b1d-ee76eab1e962",
   "metadata": {},
   "outputs": [
    {
     "name": "stdout",
     "output_type": "stream",
     "text": [
      "13926    32551\n",
      "16225    12645\n",
      "18606    11353\n",
      "14926    10545\n",
      "11511     8773\n",
      "         ...  \n",
      "19185        1\n",
      "18821        1\n",
      "17691        1\n",
      "17905        1\n",
      "1496         1\n",
      "Name: reviewLength, Length: 19986, dtype: int64\n"
     ]
    }
   ],
   "source": [
    "print(instruments.reviewLength.sort_values(ascending = False))"
   ]
  },
  {
   "cell_type": "code",
   "execution_count": 17,
   "id": "70797bea-9846-4f4b-b09a-f86b7ebd13be",
   "metadata": {},
   "outputs": [],
   "source": [
    "instruments[\"logLength\"] = instruments['reviewLength'].apply(np.log)"
   ]
  },
  {
   "cell_type": "code",
   "execution_count": 18,
   "id": "b7db96a4-28e0-4e99-bfe4-cfeb858c26f5",
   "metadata": {},
   "outputs": [
    {
     "name": "stderr",
     "output_type": "stream",
     "text": [
      "/tmp/ipykernel_1566/2977088613.py:1: UserWarning: Ignoring `palette` because no `hue` variable has been assigned.\n",
      "  sns.histplot(data = instruments, x = 'logLength', palette = palette)\n"
     ]
    },
    {
     "data": {
      "text/plain": [
       "<AxesSubplot: xlabel='logLength', ylabel='Count'>"
      ]
     },
     "execution_count": 18,
     "metadata": {},
     "output_type": "execute_result"
    },
    {
     "data": {
      "image/png": "[encoded data removed]",
      "text/plain": [
       "<Figure size 640x480 with 1 Axes>"
      ]
     },
     "metadata": {},
     "output_type": "display_data"
    }
   ],
   "source": [
    "sns.histplot(data = instruments, x = 'logLength', palette = palette)"
   ]
  },
  {
   "cell_type": "code",
   "execution_count": 21,
   "id": "639dbba6-3e1e-4b30-b491-f1221f316242",
   "metadata": {},
   "outputs": [
    {
     "data": {
      "text/plain": [
       "<AxesSubplot: xlabel='verified', ylabel='count'>"
      ]
     },
     "execution_count": 21,
     "metadata": {},
     "output_type": "execute_result"
    },
    {
     "data": {
      "image/png": "[encoded data removed]",
      "text/plain": [
       "<Figure size 640x480 with 1 Axes>"
      ]
     },
     "metadata": {},
     "output_type": "display_data"
    }
   ],
   "source": [
    "sns.countplot(data = instruments, x = 'verified')"
   ]
  },
  {
   "cell_type": "markdown",
   "id": "561c16cc-6475-4ce6-a64b-4c8366893a0e",
   "metadata": {},
   "source": [
    "### 1. Baseline Models"
   ]
  },
  {
   "cell_type": "markdown",
   "id": "3810e4f6-01fe-4376-b456-d594f9d4bf5f",
   "metadata": {},
   "source": [
    "**Regression Model using Binary Feature Representation**"
   ]
  },
  {
   "cell_type": "code",
   "execution_count": null,
   "id": "f9da76c4-6bf1-4a80-a94c-74892692de73",
   "metadata": {},
   "outputs": [],
   "source": [
    "#!pip install gensim\n",
    "#!pip install spacy\n",
    "#!python -m spacy download en_core_web_sm"
   ]
  },
  {
   "cell_type": "code",
   "execution_count": 23,
   "id": "b4a3ed8d-e3b4-4c65-a00f-9dc3ff42e6b1",
   "metadata": {},
   "outputs": [
    {
     "name": "stderr",
     "output_type": "stream",
     "text": [
      "[nltk_data] Downloading package punkt to /home/jovyan/nltk_data...\n",
      "[nltk_data]   Package punkt is already up-to-date!\n"
     ]
    },
    {
     "data": {
      "text/plain": [
       "True"
      ]
     },
     "execution_count": 23,
     "metadata": {},
     "output_type": "execute_result"
    }
   ],
   "source": [
    "import spacy\n",
    "import en_core_web_sm\n",
    "from gensim.models import Word2Vec\n",
    "nlp_processor = en_core_web_sm.load()\n",
    "import nltk\n",
    "nltk.download('punkt')"
   ]
  },
  {
   "cell_type": "code",
   "execution_count": 24,
   "id": "b5678a2b-9c4a-43f7-b58e-6580fd449922",
   "metadata": {},
   "outputs": [
    {
     "name": "stderr",
     "output_type": "stream",
     "text": [
      "[nltk_data] Downloading package stopwords to /home/jovyan/nltk_data...\n",
      "[nltk_data]   Package stopwords is already up-to-date!\n"
     ]
    }
   ],
   "source": [
    "# To remove stopwords:\n",
    "nltk.download('stopwords')\n",
    "from nltk.corpus import stopwords\n",
    "stop = set(stopwords.words('english'))"
   ]
  },
  {
   "cell_type": "code",
   "execution_count": 25,
   "id": "bd882cb7-7c8b-488b-8b30-a11cd53e0197",
   "metadata": {},
   "outputs": [],
   "source": [
    "# Defining Preprocessing function\n",
    "def pre_processing_by_spacy(doc, lemma = True, need_sent = False):\n",
    "    doc_class = nlp_processor(doc)\n",
    "    tokens = []\n",
    "    # step 1: get sentences\n",
    "    for sent in doc_class.sents:\n",
    "        # step 2: get tokens\n",
    "        # step 3 (optional): lemma\n",
    "        if lemma:\n",
    "            words = [token.lemma_ for token in sent if not token.is_punct and not token.is_space]\n",
    "        else:\n",
    "            words = [token.text for token in sent if not token.is_punct and not token.is_space]\n",
    "        if need_sent:\n",
    "            tokens.append(words)\n",
    "        else:\n",
    "            tokens += words\n",
    "            \n",
    "    return [w.lower() for w in tokens if w.lower() not in stop]"
   ]
  },
  {
   "cell_type": "code",
   "execution_count": 26,
   "id": "759c17bd-324e-4cd8-9139-1af564345398",
   "metadata": {},
   "outputs": [
    {
     "name": "stderr",
     "output_type": "stream",
     "text": [
      "/tmp/ipykernel_12485/871273074.py:1: FutureWarning: The behavior of `series[i:j]` with an integer-dtype index is deprecated. In a future version, this will be treated as *label-based* indexing, consistent with e.g. `series[i]` lookups. To retain the old behavior, use `series.iloc[i:j]`. To get the future behavior, use `series.loc[i:j]`.\n",
      "  instruments.reviewText[0:10].apply(pre_processing_by_spacy)\n"
     ]
    },
    {
     "data": {
      "text/plain": [
       "0    [two, problem, smell, leave, garage, 2, week, ...\n",
       "1    [gift, use, product, look, high, quality, make...\n",
       "2    [play, many, show, month, tuner, keep, bass, s...\n",
       "3    [gift, christmas, son, ask, far, hear, ir, wor...\n",
       "4                                                [job]\n",
       "5                                               [love]\n",
       "6    [stable, secure, imagine, use, example, exerci...\n",
       "7      [great, product, got, time, work, well, expect]\n",
       "8    [totally, worth, extra, money, sturdy, well, m...\n",
       "9    [case, great, short, indicate, website, hence,...\n",
       "Name: reviewText, dtype: object"
      ]
     },
     "execution_count": 26,
     "metadata": {},
     "output_type": "execute_result"
    }
   ],
   "source": [
    "instruments.reviewText[0:10].apply(pre_processing_by_spacy)"
   ]
  },
  {
   "cell_type": "markdown",
   "id": "d45ee186-5982-425b-8a0e-cdafe06dfc1d",
   "metadata": {},
   "source": [
    "**Building Vocabulary**"
   ]
  },
  {
   "cell_type": "markdown",
   "id": "82a15f84-6a39-469c-8e37-b32e96634d96",
   "metadata": {},
   "source": [
    "We first define a dictionary (DF) with the total frequency of each word in the corpse."
   ]
  },
  {
   "cell_type": "code",
   "execution_count": 30,
   "id": "f400a1ef-1816-4368-adee-53d0d211dd0d",
   "metadata": {},
   "outputs": [],
   "source": [
    "y = instruments.overall\n",
    "feat = instruments[[\"verified\", \"reviewText\", 'summary', \"logLength\"]]"
   ]
  },
  {
   "cell_type": "code",
   "execution_count": 32,
   "id": "42feafe7-87b7-4ca6-8fa0-fadac10668e1",
   "metadata": {},
   "outputs": [],
   "source": [
    "feat = pd.get_dummies(feat, columns = ['verified'], drop_first = True)"
   ]
  },
  {
   "cell_type": "code",
   "execution_count": 33,
   "id": "2f46ceea-bbae-46c5-8114-8daf0673b09b",
   "metadata": {},
   "outputs": [
    {
     "name": "stdout",
     "output_type": "stream",
     "text": [
      "15988 3998\n"
     ]
    }
   ],
   "source": [
    "# Split data into train, test sets\n",
    "from sklearn.model_selection import train_test_split\n",
    "\n",
    "X_train, X_test, y_train, y_test = train_test_split(feat, y, random_state=42, test_size=0.2, shuffle=True)\n",
    "\n",
    "print(len(X_train), len(X_test))"
   ]
  },
  {
   "cell_type": "code",
   "execution_count": 35,
   "id": "2743c604-a805-4a5e-96da-475dbb614c5b",
   "metadata": {},
   "outputs": [
    {
     "name": "stderr",
     "output_type": "stream",
     "text": [
      "100%|██████████| 15988/15988 [02:16<00:00, 117.40it/s]\n"
     ]
    }
   ],
   "source": [
    "from collections import defaultdict\n",
    "from tqdm import tqdm\n",
    "\n",
    "DF = defaultdict(float)\n",
    "for doc in tqdm(X_train.reviewText):\n",
    "    tokens = pre_processing_by_spacy(doc)\n",
    "    for token in set(tokens):\n",
    "        DF[token] += 1"
   ]
  },
  {
   "cell_type": "code",
   "execution_count": 36,
   "id": "b1185a4c-4b7d-4034-bbfb-94d94c984efe",
   "metadata": {},
   "outputs": [
    {
     "name": "stdout",
     "output_type": "stream",
     "text": [
      "18627 633\n"
     ]
    }
   ],
   "source": [
    "from math import log\n",
    "IDF, vocab = dict(), dict()\n",
    "for token in DF:\n",
    "    if DF[token] < 100:\n",
    "        # this becomes an unk\n",
    "        pass\n",
    "    else:\n",
    "        vocab[token] = len(vocab)\n",
    "        IDF[token] = log(1 + len(X_train.reviewText) / DF[token])\n",
    "print(len(DF), len(vocab))"
   ]
  },
  {
   "cell_type": "code",
   "execution_count": 37,
   "id": "7f8c31b5-fdf6-41bc-816f-1c55073f8359",
   "metadata": {},
   "outputs": [
    {
     "data": {
      "text/plain": [
       "15988"
      ]
     },
     "execution_count": 37,
     "metadata": {},
     "output_type": "execute_result"
    }
   ],
   "source": [
    "len(X_train.reviewText)"
   ]
  },
  {
   "cell_type": "markdown",
   "id": "bdedac01-da32-4ca3-b40c-26d6c4b00cb4",
   "metadata": {},
   "source": [
    "We create the term \"UNK\" in our vocabulary, to group uncommon, rare, words."
   ]
  },
  {
   "cell_type": "code",
   "execution_count": 39,
   "id": "5b58c00d-1ffc-4687-bee7-8ce65802a1b2",
   "metadata": {},
   "outputs": [],
   "source": [
    "IDF['<UNK>'] = 1\n",
    "vocab['<UNK>'] = len(vocab)"
   ]
  },
  {
   "cell_type": "code",
   "execution_count": 40,
   "id": "bbc0449c-6f9e-4609-b87e-44e7b2873761",
   "metadata": {},
   "outputs": [
    {
     "name": "stdout",
     "output_type": "stream",
     "text": [
      "{'beginner': 0, 'install': 1, 'easy': 2, 'great': 3, 'mount': 4, 'case': 5, 'seem': 6, 'device': 7, 'take': 8, 'work': 9, 'ok': 10, 'actually': 11, 'produce': 12, 'plug': 13, 'quality': 14, 'music': 15, 'student': 16, 'use': 17, 'like': 18, 'get': 19, 'well': 20, 'capo': 21, 'idea': 22, 'guitar': 23, 'play': 24, 'way': 25, 'also': 26, 'nice': 27, 'since': 28, 'one': 29, 'song': 30, 'find': 31, 'material': 32, 'tune': 33, 'awesome': 34, 'without': 35, 'tight': 36, 'make': 37, 'heavy': 38, 'size': 39, 'product': 40, 'look': 41, 'neck': 42, 'player': 43, 'however': 44, 'electric': 45, 'wrong': 46, 'fret': 47, 'return': 48, 'even': 49, 'might': 50, 'nicely': 51, 'finish': 52, 'appear': 53, 'practice': 54, 'close': 55, 'adapter': 56, 'disappointed': 57, 'ear': 58, 'headphone': 59, 'another': 60, 'usb': 61, 'buy': 62, 'could': 63, 'perfectly': 64, 'soon': 65, 'start': 66, 'nothing': 67, 'setup': 68, 'need': 69, 'midi': 70, 'simple': 71, 'value': 72, 'show': 73, 'price': 74, 'tone': 75, 'bass': 76, 'action': 77, 'good': 78, 'pleased': 79, 'amazing': 80, 'sound': 81, 'glad': 82, 'line': 83, 'send': 84, 'go': 85, 'give': 86, 'real': 87, 'around': 88, 'kid': 89, 'else': 90, 'beat': 91, 'band': 92, 'top': 93, 'hold': 94, 'really': 95, 'bad': 96, 'wood': 97, 'rather': 98, 'back': 99, 'instead': 100, 'something': 101, 'basic': 102, 'two': 103, 'big': 104, 'would': 105, 'care': 106, 'metal': 107, 'box': 108, 'much': 109, 'first': 110, \"'ve\": 111, 'spot': 112, 'loose': 113, 'bottom': 114, 'finger': 115, 'suppose': 116, 'tighten': 117, 'set': 118, 'star': 119, 'tell': 120, 'pick': 121, 'together': 122, 'time': 123, 'christmas': 124, 'half': 125, 'hear': 126, 'screw': 127, 'put': 128, 'order': 129, 'right': 130, 'studio': 131, 'anyone': 132, 'portable': 133, 'digital': 134, 'instrument': 135, 'year': 136, 'interface': 137, \"'s\": 138, 'pad': 139, 'impressed': 140, 'upgrade': 141, 'want': 142, 'figure': 143, 'many': 144, '1': 145, '3': 146, 'excellent': 147, 'purchase': 148, 'drum': 149, 'input': 150, 'function': 151, 'machine': 152, 'write': 153, 'fact': 154, 'pro': 155, 'feel': 156, '4': 157, 'program': 158, 'short': 159, 'consider': 160, 'cut': 161, 'little': 162, 'note': 163, 'construction': 164, 'second': 165, 'recording': 166, 'worth': 167, 'away': 168, 'software': 169, 'sure': 170, 'see': 171, 'change': 172, 'month': 173, 'may': 174, 'create': 175, 'love': 176, 'try': 177, 'recommend': 178, 'yet': 179, 'sturdy': 180, 'include': 181, 'help': 182, '10': 183, 'record': 184, 'recorder': 185, 'stand': 186, 'tube': 187, 'normal': 188, 'vocal': 189, 'mic': 190, 'low': 191, 'slightly': 192, 'audio': 193, 'high': 194, 'control': 195, 'run': 196, 'perfect': 197, 'ago': 198, 'problem': 199, 'absolutely': 200, '15': 201, 'keyboard': 202, 'always': 203, 'never': 204, 'thing': 205, 'noise': 206, 'sell': 207, 'seller': 208, 'new': 209, 'replacement': 210, 'reason': 211, 'item': 212, 'move': 213, 'soft': 214, 'friend': 215, 'already': 216, 'exactly': 217, 'come': 218, 'fine': 219, 'instruction': 220, 'cable': 221, 'switch': 222, 'key': 223, 'everything': 224, 'every': 225, 'finally': 226, 'connect': 227, 'point': 228, 'money': 229, 'buck': 230, 'instal': 231, 'pretty': 232, 'adjustable': 233, 'violin': 234, 'able': 235, 'place': 236, 'body': 237, 'different': 238, 'hook': 239, 'minute': 240, 'allow': 241, 'height': 242, 'rest': 243, 'clear': 244, 'solid': 245, 'store': 246, 'say': 247, 'deal': 248, 'uke': 249, 'far': 250, 'people': 251, 'string': 252, 'ask': 253, 'ukulele': 254, 'chord': 255, 'favorite': 256, 'easily': 257, 'daughter': 258, 'deliver': 259, 'highly': 260, 'compare': 261, 'comfortable': 262, 'room': 263, 'fun': 264, '8': 265, 'pair': 266, 'dollar': 267, 'difficult': 268, 'old': 269, 'definitely': 270, 'break': 271, 'lot': 272, 'wire': 273, 'sometimes': 274, 'wish': 275, 'lock': 276, 'gift': 277, 'live': 278, 'got': 279, 'describe': 280, 'useful': 281, 'open': 282, 'fix': 283, 'overall': 284, 'cord': 285, 'enjoy': 286, 'amp': 287, 'son': 288, 'lead': 289, 'drop': 290, 'leave': 291, 'strap': 292, 'keep': 293, 'small': 294, 'become': 295, 'secure': 296, '2': 297, 'contact': 298, 'company': 299, 'replace': 300, 'provide': 301, 'past': 302, 'properly': 303, 'piano': 304, 'know': 305, 'decide': 306, 'name': 307, 'thank': 308, 'damage': 309, 'happy': 310, 'learn': 311, 'part': 312, 'inside': 313, 'beautiful': 314, 'whole': 315, 'quite': 316, 'stage': 317, 'supply': 318, 'expect': 319, 'tuner': 320, 'surprised': 321, 'packaging': 322, 'adjust': 323, 'pitch': 324, 'microphone': 325, 'type': 326, 'standard': 327, 'base': 328, 'delivery': 329, 'fast': 330, 'super': 331, 'within': 332, '5': 333, 'cheap': 334, 'bright': 335, 'stick': 336, '$': 337, 'speaker': 338, 'effect': 339, 'compact': 340, 'match': 341, 'con': 342, 'read': 343, 'turn': 344, 'although': 345, 'space': 346, 'output': 347, 'pedal': 348, 'drive': 349, 'unit': 350, 'extremely': 351, 'let': 352, 'quickly': 353, 'foot': 354, 'bit': 355, 'toy': 356, 'deep': 357, 'wall': 358, 'mention': 359, 'course': 360, 'system': 361, 'pay': 362, 'happen': 363, 'disappoint': 364, 'think': 365, 'hard': 366, 'musician': 367, 'stuff': 368, 'choose': 369, 'board': 370, 'especially': 371, 'experience': 372, 'professional': 373, 'package': 374, 'offer': 375, 'button': 376, 'jack': 377, 'straight': 378, 'playing': 379, 'model': 380, 'still': 381, 'large': 382, 'several': 383, 'mean': 384, 'lose': 385, 'home': 386, 'option': 387, 'scratch': 388, 'almost': 389, 'flat': 390, 'due': 391, 'acoustic': 392, 'piece': 393, 'support': 394, 'amount': 395, 'touch': 396, 'side': 397, 'travel': 398, 'cover': 399, 'ever': 400, 'bridge': 401, 'style': 402, '100': 403, 'computer': 404, 'satisfied': 405, 'battery': 406, 'cost': 407, 'customer': 408, 'bag': 409, 'design': 410, 'enough': 411, 'gig': 412, 'last': 413, 'someone': 414, 'life': 415, 'add': 416, 'build': 417, 'though': 418, 'similar': 419, 'power': 420, '6': 421, 'next': 422, 'end': 423, 'less': 424, 'except': 425, 'job': 426, 'hour': 427, 'thin': 428, 'fit': 429, 'fantastic': 430, 'cool': 431, 'save': 432, 'huge': 433, 'pack': 434, 'arrive': 435, 'simply': 436, 'available': 437, 'three': 438, 'color': 439, 'recently': 440, 'mind': 441, 'least': 442, 'probably': 443, 'blue': 444, 'setting': 445, 'party': 446, 'knob': 447, 'signal': 448, 'mix': 449, 'test': 450, 'guess': 451, 'hope': 452, 'shipping': 453, 'receive': 454, 'fall': 455, 'protect': 456, 'slide': 457, 'arm': 458, 'issue': 459, 'require': 460, 'plastic': 461, 'ship': 462, 'flimsy': 463, 'clip': 464, 'unless': 465, 'service': 466, 'expensive': 467, 'front': 468, 'book': 469, 'believe': 470, 'day': 471, 'poor': 472, '12': 473, 'everyone': 474, 'school': 475, 'five': 476, 'stop': 477, 'apart': 478, 'couple': 479, 'durable': 480, 'advertise': 481, '30': 482, 'tip': 483, 'anything': 484, 'pull': 485, 'head': 486, 'week': 487, 'attach': 488, 'picture': 489, 'must': 490, 'review': 491, 'shape': 492, 'long': 493, 'tuning': 494, 'accurate': 495, 'husband': 496, 'stay': 497, 'choice': 498, 'light': 499, 'tape': 500, 'anyway': 501, 'loud': 502, 'bring': 503, 'extra': 504, 'pop': 505, 'weight': 506, 'kind': 507, 'amazon': 508, 'decent': 509, 'tool': 510, 'result': 511, 'red': 512, 'hand': 513, 'pickup': 514, 'double': 515, 'full': 516, 'affordable': 517, 'purpose': 518, 'e': 519, 'wonderful': 520, 'outside': 521, 'perform': 522, 'true': 523, 'gear': 524, 'sit': 525, 'local': 526, 'yes': 527, 'track': 528, 'pocket': 529, 'regular': 530, 'strat': 531, 'inch': 532, 'smooth': 533, 'later': 534, 'rubber': 535, 'wear': 536, 'floor': 537, 'hole': 538, 'check': 539, 'unfortunately': 540, 'black': 541, 'notice': 542, 'guy': 543, 'plus': 544, 'etc': 545, 'mini': 546, 'stock': 547, 'fender': 548, 'description': 549, 'kit': 550, 'often': 551, 'clean': 552, '7': 553, 'immediately': 554, 'volume': 555, 'rock': 556, 'condition': 557, 'mid': 558, 'difference': 559, 'remove': 560, 'along': 561, 'thick': 562, 'waste': 563, 'completely': 564, 'original': 565, 'maybe': 566, 'reed': 567, 'state': 568, 'voice': 569, 'mine': 570, 'matter': 571, 'push': 572, 'distortion': 573, 'fairly': 574, 'gain': 575, 'single': 576, 'either': 577, 'performance': 578, 'plenty': 579, 'carry': 580, 'listen': 581, '20': 582, 'level': 583, 'equipment': 584, 'mixer': 585, 'house': 586, 'yamaha': 587, '50': 588, 'main': 589, 'complaint': 590, 'hang': 591, 'cause': 592, 'range': 593, 'brand': 594, 'four': 595, 'quick': 596, 'rich': 597, 'okay': 598, 'call': 599, 'adjustment': 600, 'feature': 601, 'opinion': 602, 'phone': 603, 'plan': 604, 'inexpensive': 605, 'dj': 606, 'monitor': 607, 'update': 608, 'totally': 609, 'handle': 610, 'spend': 611, 'suggest': 612, 'strong': 613, 'channel': 614, 'version': 615, 'miss': 616, 'prefer': 617, 'quiet': 618, 'hit': 619, 'wait': 620, 'bend': 621, 'warm': 622, 'shop': 623, 'video': 624, 'display': 625, 'position': 626, 'expectation': 627, 'blow': 628, 'otherwise': 629, 'free': 630, 'bow': 631, 'early': 632, '<UNK>': 633}\n"
     ]
    }
   ],
   "source": [
    "print(vocab)"
   ]
  },
  {
   "cell_type": "markdown",
   "id": "f353774a-fcf0-4cdb-bac1-2f6d9248dd1a",
   "metadata": {},
   "source": [
    "We define a function to create binary features:"
   ]
  },
  {
   "cell_type": "code",
   "execution_count": 41,
   "id": "11e2a311-38bb-4828-a2b3-cccf8e7f5aaa",
   "metadata": {},
   "outputs": [],
   "source": [
    "def binary_feature_extractor(doc, vocab):\n",
    "    tokens = pre_processing_by_spacy(doc)\n",
    "    for i, token in enumerate(tokens):\n",
    "        if token not in vocab:\n",
    "            tokens[i] = '<UNK>'\n",
    "    x = [0] * len(vocab)\n",
    "    for token in set(tokens):\n",
    "        token_id = vocab[token]\n",
    "        x[token_id] = 1 # this will be a dense matrix\n",
    "    return x"
   ]
  },
  {
   "cell_type": "code",
   "execution_count": 42,
   "id": "e8180722-2889-40b1-837f-af899ccf5944",
   "metadata": {},
   "outputs": [
    {
     "name": "stderr",
     "output_type": "stream",
     "text": [
      "100%|██████████| 15988/15988 [02:01<00:00, 132.13it/s]\n"
     ]
    }
   ],
   "source": [
    "X_bin = []\n",
    "for doc in tqdm(X_train.reviewText):\n",
    "    X_bin.append(binary_feature_extractor(doc, vocab))"
   ]
  },
  {
   "cell_type": "code",
   "execution_count": 43,
   "id": "afa1ced6-c5ce-474f-9cba-460c61508f5c",
   "metadata": {},
   "outputs": [],
   "source": [
    "X_safe = X_bin.copy()"
   ]
  },
  {
   "cell_type": "code",
   "execution_count": 44,
   "id": "6871ddfc-86ef-4173-a45d-5fb1001d339e",
   "metadata": {},
   "outputs": [],
   "source": [
    "X_safe = sm.add_constant(X_safe)"
   ]
  },
  {
   "cell_type": "code",
   "execution_count": 45,
   "id": "d73f2b71-7a27-4f95-b808-907174a13493",
   "metadata": {},
   "outputs": [
    {
     "data": {
      "text/plain": [
       "(15988, 635)"
      ]
     },
     "execution_count": 45,
     "metadata": {},
     "output_type": "execute_result"
    }
   ],
   "source": [
    "X_safe.shape"
   ]
  },
  {
   "cell_type": "code",
   "execution_count": 46,
   "id": "d65a040b-1b47-4f3e-a05f-167105bda3bb",
   "metadata": {},
   "outputs": [],
   "source": [
    "X_safe = np.column_stack((X_safe, X_train.logLength, X_train.verified_True))"
   ]
  },
  {
   "cell_type": "code",
   "execution_count": 47,
   "id": "dad07cf9-91de-40d4-9b79-28e9dab0345b",
   "metadata": {},
   "outputs": [],
   "source": [
    "import scipy.sparse as sparse\n",
    "sparse_X = sparse.csr_matrix(X_safe)"
   ]
  },
  {
   "cell_type": "code",
   "execution_count": 56,
   "id": "17c94a31-20d4-40f7-bf58-9703d546e4f6",
   "metadata": {},
   "outputs": [],
   "source": [
    "y_bin = y_train.values"
   ]
  },
  {
   "cell_type": "code",
   "execution_count": 57,
   "id": "4b747aa8-2c1c-4894-ac01-77e8c977827b",
   "metadata": {},
   "outputs": [],
   "source": [
    "from sklearn.linear_model import Ridge"
   ]
  },
  {
   "cell_type": "code",
   "execution_count": 60,
   "id": "3137882a-832d-455c-a968-364ce65208c5",
   "metadata": {},
   "outputs": [],
   "source": [
    "lr_bin = Ridge()\n",
    "lr_bin = lr_bin.fit(sparse_X, y_bin)"
   ]
  },
  {
   "cell_type": "code",
   "execution_count": 64,
   "id": "bc74865b-e86e-46fe-b3ff-abeb35b1eea3",
   "metadata": {},
   "outputs": [
    {
     "name": "stdout",
     "output_type": "stream",
     "text": [
      "R-squared: 0.408\n"
     ]
    }
   ],
   "source": [
    "print(f\"R-squared: {lr_bin.score(sparse_X, y_bin):.3f}\")"
   ]
  },
  {
   "cell_type": "markdown",
   "id": "6ac64f7c-dff3-4887-b80b-823c6cee3c5a",
   "metadata": {},
   "source": [
    "**Model Evaluation:**"
   ]
  },
  {
   "cell_type": "code",
   "execution_count": 65,
   "id": "9ed5c1d7-02bd-4441-a045-a3025621cc93",
   "metadata": {},
   "outputs": [],
   "source": [
    "from sklearn.metrics import mean_squared_error"
   ]
  },
  {
   "cell_type": "code",
   "execution_count": 66,
   "id": "65bc5df2-1a60-43eb-a233-5e596c3d55b4",
   "metadata": {},
   "outputs": [
    {
     "name": "stderr",
     "output_type": "stream",
     "text": [
      "100%|██████████| 3998/3998 [00:31<00:00, 126.97it/s]\n"
     ]
    }
   ],
   "source": [
    "X_bin_test = []\n",
    "for doc in tqdm(X_test.reviewText):\n",
    "    X_bin_test.append(binary_feature_extractor(doc, vocab))"
   ]
  },
  {
   "cell_type": "code",
   "execution_count": 67,
   "id": "d4398683-010b-4cdc-899c-f50ac89b816f",
   "metadata": {},
   "outputs": [],
   "source": [
    "X_bin_test = sm.add_constant(X_bin_test)"
   ]
  },
  {
   "cell_type": "code",
   "execution_count": 68,
   "id": "b88fb8db-4520-41b6-ace0-d47b8cfdc2f7",
   "metadata": {},
   "outputs": [],
   "source": [
    "X_bin_test = np.column_stack((X_bin_test, X_test.logLength, X_test.verified_True))"
   ]
  },
  {
   "cell_type": "code",
   "execution_count": 73,
   "id": "f278a598-5b44-4bcd-9fe7-ebd0b27bb973",
   "metadata": {},
   "outputs": [],
   "source": [
    "y_pred_train = lr_bin.predict(sparse_X)\n",
    "y_pred = lr_bin.predict(X_bin_test)"
   ]
  },
  {
   "cell_type": "code",
   "execution_count": 71,
   "id": "daa5cf0c-1f3a-4e4c-8ff5-7708e2d871d6",
   "metadata": {},
   "outputs": [],
   "source": [
    "from sklearn.metrics import mean_squared_error"
   ]
  },
  {
   "cell_type": "code",
   "execution_count": 76,
   "id": "842058e1-4787-4ec6-9d88-7ce7232eb951",
   "metadata": {},
   "outputs": [
    {
     "name": "stdout",
     "output_type": "stream",
     "text": [
      "Train RMSE: 0.954\n",
      "Test RMSE: 1.003\n"
     ]
    }
   ],
   "source": [
    "print(f\"Train RMSE: {np.sqrt(mean_squared_error(y_train, y_pred_train)):.3f}\")\n",
    "print(f\"Test RMSE: {np.sqrt(mean_squared_error(y_test, y_pred)):.3f}\")"
   ]
  },
  {
   "cell_type": "markdown",
   "id": "31181eed-8e1f-4356-90c3-04f6110bccc2",
   "metadata": {},
   "source": [
    "#### 2. TF-IDF Feature Representation"
   ]
  },
  {
   "cell_type": "code",
   "execution_count": 77,
   "id": "2014bcb9-fd16-42b1-86ea-5a3d19acb5bb",
   "metadata": {},
   "outputs": [
    {
     "name": "stderr",
     "output_type": "stream",
     "text": [
      "/opt/conda/lib/python3.10/site-packages/sklearn/feature_extraction/text.py:528: UserWarning: The parameter 'token_pattern' will not be used since 'tokenizer' is not None'\n",
      "  warnings.warn(\n"
     ]
    },
    {
     "name": "stdout",
     "output_type": "stream",
     "text": [
      "bag-of-words features ready!\n"
     ]
    }
   ],
   "source": [
    "from sklearn.feature_extraction.text import TfidfVectorizer\n",
    "\n",
    "tfidf = TfidfVectorizer(strip_accents=None,\n",
    "                        lowercase=True,\n",
    "                        preprocessor=None,  # applied preprocessor in Data Cleaning\n",
    "                        tokenizer=pre_processing_by_spacy,\n",
    "                        use_idf=True,\n",
    "                        norm='l2',\n",
    "                        smooth_idf=True)\n",
    "\n",
    "X_tfidf = tfidf.fit_transform(X_train.reviewText)\n",
    "\n",
    "print('bag-of-words features ready!')"
   ]
  },
  {
   "cell_type": "code",
   "execution_count": 78,
   "id": "1da36073-10df-440c-9391-e8c09eeb699b",
   "metadata": {},
   "outputs": [
    {
     "data": {
      "text/plain": [
       "18170"
      ]
     },
     "execution_count": 78,
     "metadata": {},
     "output_type": "execute_result"
    }
   ],
   "source": [
    "vocab_train = tfidf.vocabulary_\n",
    "len(vocab_train)"
   ]
  },
  {
   "cell_type": "code",
   "execution_count": 79,
   "id": "f80c1688-2131-4ab0-812a-322a36844e04",
   "metadata": {},
   "outputs": [
    {
     "data": {
      "text/html": [
       "<style>#sk-container-id-1 {color: black;background-color: white;}#sk-container-id-1 pre{padding: 0;}#sk-container-id-1 div.sk-toggleable {background-color: white;}#sk-container-id-1 label.sk-toggleable__label {cursor: pointer;display: block;width: 100%;margin-bottom: 0;padding: 0.3em;box-sizing: border-box;text-align: center;}#sk-container-id-1 label.sk-toggleable__label-arrow:before {content: \"▸\";float: left;margin-right: 0.25em;color: #696969;}#sk-container-id-1 label.sk-toggleable__label-arrow:hover:before {color: black;}#sk-container-id-1 div.sk-estimator:hover label.sk-toggleable__label-arrow:before {color: black;}#sk-container-id-1 div.sk-toggleable__content {max-height: 0;max-width: 0;overflow: hidden;text-align: left;background-color: #f0f8ff;}#sk-container-id-1 div.sk-toggleable__content pre {margin: 0.2em;color: black;border-radius: 0.25em;background-color: #f0f8ff;}#sk-container-id-1 input.sk-toggleable__control:checked~div.sk-toggleable__content {max-height: 200px;max-width: 100%;overflow: auto;}#sk-container-id-1 input.sk-toggleable__control:checked~label.sk-toggleable__label-arrow:before {content: \"▾\";}#sk-container-id-1 div.sk-estimator input.sk-toggleable__control:checked~label.sk-toggleable__label {background-color: #d4ebff;}#sk-container-id-1 div.sk-label input.sk-toggleable__control:checked~label.sk-toggleable__label {background-color: #d4ebff;}#sk-container-id-1 input.sk-hidden--visually {border: 0;clip: rect(1px 1px 1px 1px);clip: rect(1px, 1px, 1px, 1px);height: 1px;margin: -1px;overflow: hidden;padding: 0;position: absolute;width: 1px;}#sk-container-id-1 div.sk-estimator {font-family: monospace;background-color: #f0f8ff;border: 1px dotted black;border-radius: 0.25em;box-sizing: border-box;margin-bottom: 0.5em;}#sk-container-id-1 div.sk-estimator:hover {background-color: #d4ebff;}#sk-container-id-1 div.sk-parallel-item::after {content: \"\";width: 100%;border-bottom: 1px solid gray;flex-grow: 1;}#sk-container-id-1 div.sk-label:hover label.sk-toggleable__label {background-color: #d4ebff;}#sk-container-id-1 div.sk-serial::before {content: \"\";position: absolute;border-left: 1px solid gray;box-sizing: border-box;top: 0;bottom: 0;left: 50%;z-index: 0;}#sk-container-id-1 div.sk-serial {display: flex;flex-direction: column;align-items: center;background-color: white;padding-right: 0.2em;padding-left: 0.2em;position: relative;}#sk-container-id-1 div.sk-item {position: relative;z-index: 1;}#sk-container-id-1 div.sk-parallel {display: flex;align-items: stretch;justify-content: center;background-color: white;position: relative;}#sk-container-id-1 div.sk-item::before, #sk-container-id-1 div.sk-parallel-item::before {content: \"\";position: absolute;border-left: 1px solid gray;box-sizing: border-box;top: 0;bottom: 0;left: 50%;z-index: -1;}#sk-container-id-1 div.sk-parallel-item {display: flex;flex-direction: column;z-index: 1;position: relative;background-color: white;}#sk-container-id-1 div.sk-parallel-item:first-child::after {align-self: flex-end;width: 50%;}#sk-container-id-1 div.sk-parallel-item:last-child::after {align-self: flex-start;width: 50%;}#sk-container-id-1 div.sk-parallel-item:only-child::after {width: 0;}#sk-container-id-1 div.sk-dashed-wrapped {border: 1px dashed gray;margin: 0 0.4em 0.5em 0.4em;box-sizing: border-box;padding-bottom: 0.4em;background-color: white;}#sk-container-id-1 div.sk-label label {font-family: monospace;font-weight: bold;display: inline-block;line-height: 1.2em;}#sk-container-id-1 div.sk-label-container {text-align: center;}#sk-container-id-1 div.sk-container {/* jupyter's `normalize.less` sets `[hidden] { display: none; }` but bootstrap.min.css set `[hidden] { display: none !important; }` so we also need the `!important` here to be able to override the default hidden behavior on the sphinx rendered scikit-learn.org. See: https://urldefense.com/v3/__https://github.com/scikit-learn/scikit-learn/issues/21755__;!!Mih3wA!GES-aYRfHYCzKptSlLnPcILVyWIejNErgVku4T1rvu0uT3OtXtiqE2x_AxAQC96EJBL8TQM4S884KgQzsGXbG9WqwVOFQuMu$  */display: inline-block !important;position: relative;}#sk-container-id-1 div.sk-text-repr-fallback {display: none;}</style><div id=\"sk-container-id-1\" class=\"sk-top-container\"><div class=\"sk-text-repr-fallback\"><pre>Ridge()</pre><b>In a Jupyter environment, please rerun this cell to show the HTML representation or trust the notebook. <br />On GitHub, the HTML representation is unable to render, please try loading this page with nbviewer.org.</b></div><div class=\"sk-container\" hidden><div class=\"sk-item\"><div class=\"sk-estimator sk-toggleable\"><input class=\"sk-toggleable__control sk-hidden--visually\" id=\"sk-estimator-id-1\" type=\"checkbox\" checked><label for=\"sk-estimator-id-1\" class=\"sk-toggleable__label sk-toggleable__label-arrow\">Ridge</label><div class=\"sk-toggleable__content\"><pre>Ridge()</pre></div></div></div></div></div>"
      ],
      "text/plain": [
       "Ridge()"
      ]
     },
     "execution_count": 79,
     "metadata": {},
     "output_type": "execute_result"
    }
   ],
   "source": [
    "lr_tfidf = Ridge()\n",
    "lr_tfidf.fit(X_tfidf, y_train)"
   ]
  },
  {
   "cell_type": "code",
   "execution_count": 80,
   "id": "8fc792d7-1b87-4641-8612-4587a89e85a1",
   "metadata": {},
   "outputs": [],
   "source": [
    "tfidf_test = TfidfVectorizer(strip_accents=None,\n",
    "                        lowercase=True,\n",
    "                        preprocessor=None,  # applied preprocessor in Data Cleaning\n",
    "                        tokenizer=pre_processing_by_spacy,\n",
    "                        use_idf=True,\n",
    "                        norm='l2',\n",
    "                        smooth_idf=True,\n",
    "                        vocabulary = vocab_train)"
   ]
  },
  {
   "cell_type": "code",
   "execution_count": 81,
   "id": "17d4c7c0-50af-4c91-8bb9-748ae8a0b7dc",
   "metadata": {},
   "outputs": [
    {
     "name": "stderr",
     "output_type": "stream",
     "text": [
      "/opt/conda/lib/python3.10/site-packages/sklearn/feature_extraction/text.py:528: UserWarning: The parameter 'token_pattern' will not be used since 'tokenizer' is not None'\n",
      "  warnings.warn(\n"
     ]
    }
   ],
   "source": [
    "# y_test = y_test.values\n",
    "X_test = tfidf_test.fit_transform(X_test.reviewText)"
   ]
  },
  {
   "cell_type": "code",
   "execution_count": 82,
   "id": "82a84733-60e2-4f0f-a847-c0410868f297",
   "metadata": {},
   "outputs": [],
   "source": [
    "y_pred_train = lr_tfidf.predict(X_tfidf)\n",
    "y_pred = lr_tfidf.predict(X_test)"
   ]
  },
  {
   "cell_type": "code",
   "execution_count": 85,
   "id": "d49a4be6-9441-4f29-8d3c-203154e5769e",
   "metadata": {},
   "outputs": [
    {
     "name": "stdout",
     "output_type": "stream",
     "text": [
      "Train RMSE: 0.725\n",
      "Test RMSE: 0.933\n"
     ]
    }
   ],
   "source": [
    "print(f\"Train RMSE: {np.sqrt(mean_squared_error(y_train, y_pred_train)):.3f}\")\n",
    "print(f\"Test RMSE: {np.sqrt(mean_squared_error(y_test, y_pred)):.3f}\")"
   ]
  }
 ],
 "metadata": {
  "kernelspec": {
   "display_name": "Python 3 (ipykernel)",
   "language": "python",
   "name": "python3"
  },
  "language_info": {
   "codemirror_mode": {
    "name": "ipython",
    "version": 3
   },
   "file_extension": ".py",
   "mimetype": "text/x-python",
   "name": "python",
   "nbconvert_exporter": "python",
   "pygments_lexer": "ipython3",
   "version": "3.10.8"
  }
 },
 "nbformat": 4,
 "nbformat_minor": 5
}
